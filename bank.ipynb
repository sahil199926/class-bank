{
 "cells": [
  {
   "cell_type": "code",
   "execution_count": 3,
   "metadata": {},
   "outputs": [],
   "source": [
    "#use balance,user as attributes\n",
    "#use deposit,withdrawal as methodes\n",
    "\n",
    "class Bank():\n",
    "    def __init__(self,balance,user):\n",
    "        self.balance=balance\n",
    "        self.user=user\n",
    "    def deposit(self,num):\n",
    "        self.balance += num\n",
    "        print(f'deposit is sucessfull the deposit ammount is {num} and remaining balance is {self.balance} ')\n",
    "    def withdrawal(self,num):\n",
    "        if num<=self.balance: \n",
    "            self.balance-=num\n",
    "            print(f'withdrawal is sucessfull the withdrawal ammount is {num} and remaining balance is {self.balance} ')\n",
    "        else:\n",
    "            print('you cant withdrawal your balance is less the your requested withdrawal')\n"
   ]
  },
  {
   "cell_type": "code",
   "execution_count": 4,
   "metadata": {},
   "outputs": [],
   "source": [
    "qw=account(400,'sahil')"
   ]
  }
 ],
 "metadata": {
  "kernelspec": {
   "display_name": "Python 3",
   "language": "python",
   "name": "python3"
  },
  "language_info": {
   "codemirror_mode": {
    "name": "ipython",
    "version": 3
   },
   "file_extension": ".py",
   "mimetype": "text/x-python",
   "name": "python",
   "nbconvert_exporter": "python",
   "pygments_lexer": "ipython3",
   "version": "3.7.4"
  }
 },
 "nbformat": 4,
 "nbformat_minor": 2
}
